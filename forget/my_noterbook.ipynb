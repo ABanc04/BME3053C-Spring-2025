{
 "cells": [
  {
   "cell_type": "code",
   "execution_count": 1,
   "metadata": {},
   "outputs": [
    {
     "ename": "ModuleNotFoundError",
     "evalue": "No module named 'my_module'",
     "output_type": "error",
     "traceback": [
      "\u001b[31m---------------------------------------------------------------------------\u001b[39m",
      "\u001b[31mModuleNotFoundError\u001b[39m                       Traceback (most recent call last)",
      "\u001b[36mCell\u001b[39m\u001b[36m \u001b[39m\u001b[32mIn[1]\u001b[39m\u001b[32m, line 2\u001b[39m\n\u001b[32m      1\u001b[39m \u001b[38;5;28;01mimport\u001b[39;00m\u001b[38;5;250m \u001b[39m\u001b[34;01mimportlib\u001b[39;00m\n\u001b[32m----> \u001b[39m\u001b[32m2\u001b[39m \u001b[38;5;28;01mimport\u001b[39;00m\u001b[38;5;250m \u001b[39m\u001b[34;01mmy_module\u001b[39;00m\n\u001b[32m      4\u001b[39m    \u001b[38;5;66;03m# After making changes to your module files\u001b[39;00m\n\u001b[32m      5\u001b[39m importlib.reload(my_module)\n",
      "\u001b[31mModuleNotFoundError\u001b[39m: No module named 'my_module'"
     ]
    }
   ],
   "source": [
    "import importlib\n",
    "import my_module\n",
    "   \n",
    "   # After making changes to your module files\n",
    "importlib.reload(my_module)\n",
    "   \n",
    "   # Now you can use the updated functions\n",
    "from my_module import add, subtract, multiply, divide\n",
    "   \n",
    "print(add(5, 3))  # Will use the updated version"
   ]
  },
  {
   "cell_type": "code",
   "execution_count": 2,
   "metadata": {},
   "outputs": [
    {
     "name": "stdout",
     "output_type": "stream",
     "text": [
      "8\n"
     ]
    }
   ],
   "source": [
    "\n",
    "import sys\n",
    "import os\n",
    "import importlib\n",
    "module_path='/workspaces/BME3053C-Spring-2025'\n",
    "# Add the directory containing your module to the Python path\n",
    "if module_path not in sys.path:\n",
    "    sys.path.append(module_path)\n",
    "\n",
    "import my_module\n",
    "\n",
    "\n",
    "\n",
    "# Reload the specific submodule\n",
    "importlib.reload(my_module.math_operations)\n",
    "\n",
    "# Then reload the main module\n",
    "importlib.reload(my_module)\n",
    "\n",
    "# Now import the updated functions\n",
    "from my_module import add, subtract, multiply, divide\n",
    "\n",
    "print(add(5, 3))  # Will use the updated version\n"
   ]
  }
 ],
 "metadata": {
  "kernelspec": {
   "display_name": "Python 3",
   "language": "python",
   "name": "python3"
  },
  "language_info": {
   "codemirror_mode": {
    "name": "ipython",
    "version": 3
   },
   "file_extension": ".py",
   "mimetype": "text/x-python",
   "name": "python",
   "nbconvert_exporter": "python",
   "pygments_lexer": "ipython3",
   "version": "3.12.1"
  }
 },
 "nbformat": 4,
 "nbformat_minor": 2
}
