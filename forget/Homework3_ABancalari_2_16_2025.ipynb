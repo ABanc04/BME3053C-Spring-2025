{
  "nbformat": 4,
  "nbformat_minor": 0,
  "metadata": {
    "colab": {
      "provenance": [],
      "include_colab_link": true
    },
    "kernelspec": {
      "name": "python3",
      "display_name": "Python 3"
    },
    "language_info": {
      "name": "python"
    }
  },
  "cells": [
    {
      "cell_type": "markdown",
      "metadata": {
        "id": "view-in-github",
        "colab_type": "text"
      },
      "source": [
        "<a href=\"https://colab.research.google.com/github/ABanc04/BME3053C-Spring-2025/blob/main/lessons-solved/Homework3_ABancalari_2_16_2025.ipynb\" target=\"_parent\"><img src=\"https://colab.research.google.com/assets/colab-badge.svg\" alt=\"Open In Colab\"/></a>"
      ]
    },
    {
      "cell_type": "code",
      "source": [
        "#Copy the code below into a python file or Colab notebook.\n",
        "#Create a function that receives a list as an input argument and uses a for loop with range to iterate through the PPG signal values and identify peaks.\n",
        "#A peak is a signal point where the value is greater than its immediate neighbors. Specifically, for a value at index i to be considered a peak, it must satisfy:\n",
        "#ppg_signal[i] > ppg_signal[i - 1]\n",
        "#ppg_signal[i] > ppg_signal[i + 1]\n",
        "#Your function should count the total number of peaks and print that value.\n",
        "#Call your function with ppg_signal as the input.\n",
        "#Upload your script or notebook.\n",
        "\n",
        "\n",
        "import math\n",
        "import random\n",
        "\n",
        "ppg_signal = [1000 + 100 * math.sin(0.1 * x) + random.randint(-20, 20) for x in range(100)]\n",
        "#print(ppg_signal) to check that it is random\n",
        "\n",
        "def find_peaks(ppg_signal):\n",
        "  peak_count = 0\n",
        "  #peak_signal = [] I originally made a list too\n",
        "  for i in range(1, len(ppg_signal)-1):\n",
        "    if  ppg_signal[i] > ppg_signal[i - 1] and  ppg_signal[i] > ppg_signal[i + 1]:\n",
        "      #peak_signal.append(ppg_signal[i])\n",
        "      peak_count += 1\n",
        "  print(\"Number of peaks:\", peak_count)\n",
        "  #print(\"Peaks:\", peak_signal)\n",
        "  return\n",
        "\n",
        "find_peaks(ppg_signal)\n",
        "\n",
        "\n",
        "\n"
      ],
      "metadata": {
        "id": "_qEBDVbeb8ib",
        "outputId": "b1945d46-2d8f-4b9f-c97a-cb89ce15da2c",
        "colab": {
          "base_uri": "https://localhost:8080/"
        }
      },
      "execution_count": 32,
      "outputs": [
        {
          "output_type": "stream",
          "name": "stdout",
          "text": [
            "Number of peaks: 29\n"
          ]
        }
      ]
    }
  ]
}