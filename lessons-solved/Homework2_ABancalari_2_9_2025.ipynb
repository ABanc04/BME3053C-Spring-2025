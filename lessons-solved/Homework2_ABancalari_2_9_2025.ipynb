{
  "nbformat": 4,
  "nbformat_minor": 0,
  "metadata": {
    "colab": {
      "provenance": [],
      "include_colab_link": true
    },
    "kernelspec": {
      "name": "python3",
      "display_name": "Python 3"
    },
    "language_info": {
      "name": "python"
    }
  },
  "cells": [
    {
      "cell_type": "markdown",
      "metadata": {
        "id": "view-in-github",
        "colab_type": "text"
      },
      "source": [
        "<a href=\"https://colab.research.google.com/github/ABanc04/BME3053C-Spring-2025/blob/main/lessons-solved/Homework2_ABancalari_2_9_2025.ipynb\" target=\"_parent\"><img src=\"https://colab.research.google.com/assets/colab-badge.svg\" alt=\"Open In Colab\"/></a>"
      ]
    },
    {
      "cell_type": "code",
      "source": [
        "bp_readings = [120, 137, 151, 123, 162, 173, 127, 154]\n",
        "bp_readings_normalized = []\n",
        "def Homework2(bp_readings):\n",
        "\n",
        "  min_val = min(bp_readings)\n",
        "  max_val = max(bp_readings)\n",
        "\n",
        "  for i in range(len(bp_readings)):\n",
        "        normalized_value = (bp_readings[i] - min_val) / (max_val - min_val)\n",
        "        bp_readings_normalized.append(normalized_value)\n",
        "\n",
        "  print(bp_readings_normalized)\n",
        "\n",
        "Homework2(bp_readings)\n",
        "\n",
        "# normalize = (given - min_val)/(max_val - min_val)\n",
        "# 1. Create a new script or a notebook on Colab and copy the list above into the first cell.\n",
        "\n",
        "# 2. Create a function that will receive an array as an input and:\n",
        "\n",
        "#     A. Use built-in Python functions to find the min and max of the array.\n",
        "\n",
        "#     B. Use a for loop to iterate through the list and normalize each reading using the formula provided.\n",
        "\n",
        "#     C. Return a list that contains normalized values.\n",
        "\n",
        "# 3. Call your function and print the output.\n",
        "\n",
        "# 4. Upload your script or notebook."
      ],
      "metadata": {
        "id": "_qEBDVbeb8ib"
      },
      "execution_count": null,
      "outputs": []
    }
  ]
}