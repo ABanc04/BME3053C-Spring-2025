{
  "nbformat": 4,
  "nbformat_minor": 0,
  "metadata": {
    "colab": {
      "provenance": [],
      "include_colab_link": true
    },
    "kernelspec": {
      "name": "python3",
      "display_name": "Python 3"
    },
    "language_info": {
      "name": "python"
    }
  },
  "cells": [
    {
      "cell_type": "markdown",
      "metadata": {
        "id": "view-in-github",
        "colab_type": "text"
      },
      "source": [
        "<a href=\"https://colab.research.google.com/github/ABanc04/BME3053C-Spring-2025/blob/main/lessons-solved/Homework3_ABancalari_2_16_2025.ipynb\" target=\"_parent\"><img src=\"https://colab.research.google.com/assets/colab-badge.svg\" alt=\"Open In Colab\"/></a>"
      ]
    },
    {
      "cell_type": "code",
      "source": [
        "#Copy the code below into a python file or Colab notebook.\n",
        "#Create a function that receives a list as an input argument and uses a for loop with range to iterate through the PPG signal values and identify peaks.\n",
        "#A peak is a signal point where the value is greater than its immediate neighbors. Specifically, for a value at index i to be considered a peak, it must satisfy:\n",
        "#ppg_signal[i] > ppg_signal[i - 1]\n",
        "#ppg_signal[i] > ppg_signal[i + 1]\n",
        "#Your function should count the total number of peaks and print that value.\n",
        "#Call your function with ppg_signal as the input.\n",
        "#Upload your script or notebook.\n",
        "\n",
        "\n",
        "import math\n",
        "import random\n",
        "\n",
        "ppg_signal = [1000 + 100 * math.sin(0.1 * x) + random.randint(-20, 20) for x in range(100)]\n",
        "\n",
        "def find_peaks(ppg_signal):\n",
        "  peak_count = 0\n",
        "  peak_signal = []\n",
        "  for i in range(1, len(ppg_signal)-1):\n",
        "    if  ppg_signal[i] > ppg_signal[i - 1] or  ppg_signal[i] > ppg_signal[i + 1]:\n",
        "      peak_signal.append(ppg_signal[i])\n",
        "      peak_count += 1\n",
        "  print(\"Number of peaks:\", peak_count)\n",
        "  print(\"Peaks:\", peak_signal)\n",
        "  return\n",
        "\n",
        "find_peaks(ppg_signal)\n",
        "\n",
        "\n",
        "\n"
      ],
      "metadata": {
        "id": "_qEBDVbeb8ib",
        "outputId": "f3702b46-dd30-41a8-be96-547c0109778d",
        "colab": {
          "base_uri": "https://localhost:8080/"
        }
      },
      "execution_count": 8,
      "outputs": [
        {
          "output_type": "stream",
          "name": "stdout",
          "text": [
            "Number of peaks: 69\n",
            "Peaks: [1017.9833416646828, 1038.866933079506, 1041.941834230865, 1040.9425538604203, 1072.4217687237692, 1094.3326909627483, 1103.1470984807897, 1082.1207360061435, 1114.3558185417194, 1103.544972998846, 1111.9573603041506, 1118.1664810452469, 1089.3847630878195, 1102.929742682568, 1097.849640381959, 1063.570521217672, 1073.8472144103957, 1052.5501371821465, 1048.4988150155905, 1033.924932921398, 1016.1120008059867, 995.162585657242, 988.4458897973168, 982.9216772310381, 949.7479556705148, 931.0163859091507, 949.2233840816026, 918.3197504692072, 916.172288893559, 907.3834063250545, 917.8397926110484, 909.2469882334904, 897.6308996366536, 898.3835391164159, 920.7547387375668, 925.4185317672268, 930.6545344279847, 939.7235512444013, 951.8733362127679, 962.9314457402362, 963.5397820586244, 990.0584501801075, 992.6910597182504, 1013.6549204850494, 1017.5119988087815, 1037.154136351338, 1046.4849920616598, 1067.84397643882, 1079.6986598718788, 1076.3667863849153, 1077.0436620628566, 1093.8708095811626, 1097.7999976774738, 1100.8168233877, 1097.8543345374605, 1101.9358246623383, 1105.0730556679773, 1097.2171833756292, 1096.459890808828, 1089.848711262349, 1067.2969230082183, 1041.4917192891762, 1036.2118485241756, 1042.2889914100247, 1004.4454423507061, 1003.4775425453357, 994.4848879538191, 975.5673218777018, 958.8239373589056]\n"
          ]
        }
      ]
    }
  ]
}