{
 "cells": [
  {
   "cell_type": "code",
   "execution_count": null,
   "metadata": {},
   "outputs": [
    {
     "ename": "ModuleNotFoundError",
     "evalue": "No module named 'kaggle'",
     "output_type": "error",
     "traceback": [
      "\u001b[31m---------------------------------------------------------------------------\u001b[39m",
      "\u001b[31mModuleNotFoundError\u001b[39m                       Traceback (most recent call last)",
      "\u001b[36mCell\u001b[39m\u001b[36m \u001b[39m\u001b[32mIn[6]\u001b[39m\u001b[32m, line 2\u001b[39m\n\u001b[32m      1\u001b[39m \u001b[38;5;28;01mimport\u001b[39;00m\u001b[38;5;250m \u001b[39m\u001b[34;01mos\u001b[39;00m\n\u001b[32m----> \u001b[39m\u001b[32m2\u001b[39m \u001b[38;5;28;01mfrom\u001b[39;00m\u001b[38;5;250m \u001b[39m\u001b[34;01mkaggle\u001b[39;00m\u001b[34;01m.\u001b[39;00m\u001b[34;01mapi\u001b[39;00m\u001b[34;01m.\u001b[39;00m\u001b[34;01mkaggle_api_extended\u001b[39;00m\u001b[38;5;250m \u001b[39m\u001b[38;5;28;01mimport\u001b[39;00m KaggleApi\n\u001b[32m      4\u001b[39m \u001b[38;5;66;03m# Authenticate and initialize Kaggle API\u001b[39;00m\n\u001b[32m      5\u001b[39m api = KaggleApi()\n",
      "\u001b[31mModuleNotFoundError\u001b[39m: No module named 'kaggle'"
     ]
    }
   ],
   "source": [
    "# import os\n",
    "# from kaggle.api.kaggle_api_extended import KaggleApi\n",
    "\n",
    "# # Authenticate and initialize Kaggle API\n",
    "# api = KaggleApi()\n",
    "# api.authenticate()\n",
    "\n",
    "# # Download the dataset\n",
    "# dataset_name = \"ghazalihicham/brain-tumor-dataset\"\n",
    "# download_path = \"brain_tumor_dataset\"\n",
    "# os.makedirs(download_path, exist_ok=True)\n",
    "# api.dataset_download_files(dataset_name, path=download_path, unzip=True)\n",
    "\n",
    "# print(\"Path to dataset files:\", os.path.abspath(download_path))\n"
   ]
  },
  {
   "cell_type": "code",
   "execution_count": 1,
   "metadata": {},
   "outputs": [
    {
     "name": "stdout",
     "output_type": "stream",
     "text": [
      "✅ Splitting complete! Files have been copied into 'brain_tumor_split/'.\n"
     ]
    }
   ],
   "source": [
    "#for organizaing the dataset\n",
    "\n",
    "import os\n",
    "import shutil\n",
    "import random\n",
    "\n",
    "# Path to your original TestData folder\n",
    "dataset_dir = 'TestData'\n",
    "\n",
    "# New base folder where splits will go\n",
    "base_dir = 'brain_tumor_split'\n",
    "\n",
    "# Define split ratios\n",
    "train_split = 0.7\n",
    "val_split = 0.15\n",
    "test_split = 0.15\n",
    "\n",
    "# Classes (subfolders)\n",
    "classes = ['yes', 'no']\n",
    "\n",
    "for cls in classes:\n",
    "    # Create new folders\n",
    "    os.makedirs(os.path.join(base_dir, 'train', cls), exist_ok=True)\n",
    "    os.makedirs(os.path.join(base_dir, 'val', cls), exist_ok=True)\n",
    "    os.makedirs(os.path.join(base_dir, 'test', cls), exist_ok=True)\n",
    "\n",
    "    # List all images inside the class folder\n",
    "    files = os.listdir(os.path.join(dataset_dir, cls))\n",
    "    files = [f for f in files if f.endswith(('.png', '.jpg', '.jpeg'))]  # Make sure it's an image\n",
    "    random.shuffle(files)\n",
    "\n",
    "    train_size = int(train_split * len(files))\n",
    "    val_size = int(val_split * len(files))\n",
    "\n",
    "    train_files = files[:train_size]\n",
    "    val_files = files[train_size:train_size + val_size]\n",
    "    test_files = files[train_size + val_size:]\n",
    "\n",
    "    # Copy files into train/val/test folders\n",
    "    for f in train_files:\n",
    "        src = os.path.join(dataset_dir, cls, f)\n",
    "        dst = os.path.join(base_dir, 'train', cls, f)\n",
    "        shutil.copyfile(src, dst)\n",
    "\n",
    "    for f in val_files:\n",
    "        src = os.path.join(dataset_dir, cls, f)\n",
    "        dst = os.path.join(base_dir, 'val', cls, f)\n",
    "        shutil.copyfile(src, dst)\n",
    "\n",
    "    for f in test_files:\n",
    "        src = os.path.join(dataset_dir, cls, f)\n",
    "        dst = os.path.join(base_dir, 'test', cls, f)\n",
    "        shutil.copyfile(src, dst)\n",
    "\n",
    "print(\"✅ Splitting complete! Files have been copied into 'brain_tumor_split/'.\")\n"
   ]
  }
 ],
 "metadata": {
  "kernelspec": {
   "display_name": "Python 3",
   "language": "python",
   "name": "python3"
  },
  "language_info": {
   "codemirror_mode": {
    "name": "ipython",
    "version": 3
   },
   "file_extension": ".py",
   "mimetype": "text/x-python",
   "name": "python",
   "nbconvert_exporter": "python",
   "pygments_lexer": "ipython3",
   "version": "3.12.1"
  }
 },
 "nbformat": 4,
 "nbformat_minor": 2
}
